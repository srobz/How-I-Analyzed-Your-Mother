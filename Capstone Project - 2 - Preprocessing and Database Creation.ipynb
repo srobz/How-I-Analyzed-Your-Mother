{
 "cells": [
  {
   "cell_type": "markdown",
   "metadata": {},
   "source": [
    "# Final Project Submission\n",
    "\n",
    "* **Student name**: Sara Robinson\n",
    "* **Student pace**: *self paced*/part time/full time\n",
    "* **Scheduled project review date/time**: 10/29/2021 18:00\n",
    "* **Instructor name**: Jeff Herman\n",
    "* **Project Reviewer**: James Irving\n",
    "* **Notebook**: 2/4\n",
    "\n",
    "# Introduction\n",
    "\n",
    "The purpose of this project is to do a thorough exploratory data analysis of the characters and scripts of the TV show How I Met Your Mother, as well as create a model that can predict who said which line. The data is from the website https://transcripts.foreverdreaming.org/viewforum.php?f=177 where there are nine pages containing the 208 episodes from nine seasons that the show ran.\n",
    "\n",
    "This is the second notebook for my Capstone Project. This notebook includes preprocessing of the text data to prepare it for exploring/modeling, as well as preparing the data for a SQL database so it is easier to explore in the next notebook. This is a short notebook and the rest of the EDA is not included here because some of the code takes a long time to run and I want to keep all of the EDA together and organized.\n",
    "\n",
    "## Import Libraries\n",
    "\n",
    "In the following cell I import the necessary libraries for this notebook."
   ]
  },
  {
   "cell_type": "code",
   "execution_count": 1,
   "metadata": {
    "scrolled": true
   },
   "outputs": [],
   "source": [
    "import pandas as pd\n",
    "import re\n",
    "from textblob import TextBlob\n",
    "from tqdm.notebook import tqdm"
   ]
  },
  {
   "cell_type": "code",
   "execution_count": 2,
   "metadata": {},
   "outputs": [
    {
     "data": {
      "text/html": [
       "<div>\n",
       "<style scoped>\n",
       "    .dataframe tbody tr th:only-of-type {\n",
       "        vertical-align: middle;\n",
       "    }\n",
       "\n",
       "    .dataframe tbody tr th {\n",
       "        vertical-align: top;\n",
       "    }\n",
       "\n",
       "    .dataframe thead th {\n",
       "        text-align: right;\n",
       "    }\n",
       "</style>\n",
       "<table border=\"1\" class=\"dataframe\">\n",
       "  <thead>\n",
       "    <tr style=\"text-align: right;\">\n",
       "      <th></th>\n",
       "      <th>Season</th>\n",
       "      <th>Episode</th>\n",
       "      <th>Character</th>\n",
       "      <th>Line</th>\n",
       "    </tr>\n",
       "  </thead>\n",
       "  <tbody>\n",
       "    <tr>\n",
       "      <th>0</th>\n",
       "      <td>1</td>\n",
       "      <td>1</td>\n",
       "      <td>Marshall</td>\n",
       "      <td>(Opens ring) Will you marry me.</td>\n",
       "    </tr>\n",
       "    <tr>\n",
       "      <th>1</th>\n",
       "      <td>1</td>\n",
       "      <td>1</td>\n",
       "      <td>Ted</td>\n",
       "      <td>Yes, perfect! And then you're engaged, you pop...</td>\n",
       "    </tr>\n",
       "    <tr>\n",
       "      <th>2</th>\n",
       "      <td>1</td>\n",
       "      <td>1</td>\n",
       "      <td>Marshall</td>\n",
       "      <td>Got it. Thanks for helping me plan this out, Ted.</td>\n",
       "    </tr>\n",
       "    <tr>\n",
       "      <th>3</th>\n",
       "      <td>1</td>\n",
       "      <td>1</td>\n",
       "      <td>Ted</td>\n",
       "      <td>Dude, are you kidding? It's you and Lily! I've...</td>\n",
       "    </tr>\n",
       "    <tr>\n",
       "      <th>4</th>\n",
       "      <td>1</td>\n",
       "      <td>1</td>\n",
       "      <td>Marshall</td>\n",
       "      <td>(laughs) yeah, sorry. We thought you were asleep.</td>\n",
       "    </tr>\n",
       "  </tbody>\n",
       "</table>\n",
       "</div>"
      ],
      "text/plain": [
       "   Season  Episode Character  \\\n",
       "0       1        1  Marshall   \n",
       "1       1        1       Ted   \n",
       "2       1        1  Marshall   \n",
       "3       1        1       Ted   \n",
       "4       1        1  Marshall   \n",
       "\n",
       "                                                Line  \n",
       "0                    (Opens ring) Will you marry me.  \n",
       "1  Yes, perfect! And then you're engaged, you pop...  \n",
       "2  Got it. Thanks for helping me plan this out, Ted.  \n",
       "3  Dude, are you kidding? It's you and Lily! I've...  \n",
       "4  (laughs) yeah, sorry. We thought you were asleep.  "
      ]
     },
     "execution_count": 2,
     "metadata": {},
     "output_type": "execute_result"
    }
   ],
   "source": [
    "df = pd.read_csv('HIMYM.csv') #Reading in dataset\n",
    "df.head() #Checking first five rows"
   ]
  },
  {
   "cell_type": "markdown",
   "metadata": {},
   "source": [
    "Let's take a look at the df info and see if there are any duplicates."
   ]
  },
  {
   "cell_type": "code",
   "execution_count": 3,
   "metadata": {},
   "outputs": [
    {
     "name": "stdout",
     "output_type": "stream",
     "text": [
      "<class 'pandas.core.frame.DataFrame'>\n",
      "RangeIndex: 4739072 entries, 0 to 4739071\n",
      "Data columns (total 4 columns):\n",
      " #   Column     Dtype \n",
      "---  ------     ----- \n",
      " 0   Season     int64 \n",
      " 1   Episode    int64 \n",
      " 2   Character  object\n",
      " 3   Line       object\n",
      "dtypes: int64(2), object(2)\n",
      "memory usage: 144.6+ MB\n",
      "None\n",
      "4716597\n",
      "Season       0\n",
      "Episode      0\n",
      "Character    0\n",
      "Line         0\n",
      "dtype: int64\n"
     ]
    }
   ],
   "source": [
    "print(df.info()) #Seeing information about our data\n",
    "\n",
    "print(df.duplicated().sum()) #Checking to see if any rows are duplicated\n",
    "\n",
    "print(df.isna().sum()) #Checking for null entries"
   ]
  },
  {
   "cell_type": "markdown",
   "metadata": {},
   "source": [
    "Golly gee willikers! No wonder everything took so long to run originally! It most likely was because it ran through a counter up to 208, so it went through every single episode 208 times. At this point I'm not going to go back and change it since I was scraping the website over and over, but what I can do is fix my data frame so the rest of this project can run smoothly. I'm going to drop the duplicates and then continue on with this notebook."
   ]
  },
  {
   "cell_type": "code",
   "execution_count": 4,
   "metadata": {},
   "outputs": [
    {
     "name": "stdout",
     "output_type": "stream",
     "text": [
      "<class 'pandas.core.frame.DataFrame'>\n",
      "Int64Index: 22475 entries, 0 to 22783\n",
      "Data columns (total 4 columns):\n",
      " #   Column     Non-Null Count  Dtype \n",
      "---  ------     --------------  ----- \n",
      " 0   Season     22475 non-null  int64 \n",
      " 1   Episode    22475 non-null  int64 \n",
      " 2   Character  22475 non-null  object\n",
      " 3   Line       22475 non-null  object\n",
      "dtypes: int64(2), object(2)\n",
      "memory usage: 877.9+ KB\n",
      "None\n",
      "0\n"
     ]
    }
   ],
   "source": [
    "df.drop_duplicates(inplace = True) #Removing duplicates\n",
    "\n",
    "print(df.info()) #Seeing df info\n",
    "\n",
    "print(df.duplicated().sum()) #Checking duplicate count"
   ]
  },
  {
   "cell_type": "code",
   "execution_count": 5,
   "metadata": {},
   "outputs": [
    {
     "data": {
      "text/html": [
       "<div>\n",
       "<style scoped>\n",
       "    .dataframe tbody tr th:only-of-type {\n",
       "        vertical-align: middle;\n",
       "    }\n",
       "\n",
       "    .dataframe tbody tr th {\n",
       "        vertical-align: top;\n",
       "    }\n",
       "\n",
       "    .dataframe thead th {\n",
       "        text-align: right;\n",
       "    }\n",
       "</style>\n",
       "<table border=\"1\" class=\"dataframe\">\n",
       "  <thead>\n",
       "    <tr style=\"text-align: right;\">\n",
       "      <th></th>\n",
       "      <th>Season</th>\n",
       "      <th>Episode</th>\n",
       "      <th>Character</th>\n",
       "      <th>Line</th>\n",
       "    </tr>\n",
       "  </thead>\n",
       "  <tbody>\n",
       "    <tr>\n",
       "      <th>0</th>\n",
       "      <td>1</td>\n",
       "      <td>1</td>\n",
       "      <td>Marshall</td>\n",
       "      <td>(Opens ring) Will you marry me.</td>\n",
       "    </tr>\n",
       "    <tr>\n",
       "      <th>1</th>\n",
       "      <td>1</td>\n",
       "      <td>1</td>\n",
       "      <td>Ted</td>\n",
       "      <td>Yes, perfect! And then you're engaged, you pop...</td>\n",
       "    </tr>\n",
       "    <tr>\n",
       "      <th>2</th>\n",
       "      <td>1</td>\n",
       "      <td>1</td>\n",
       "      <td>Marshall</td>\n",
       "      <td>Got it. Thanks for helping me plan this out, Ted.</td>\n",
       "    </tr>\n",
       "    <tr>\n",
       "      <th>3</th>\n",
       "      <td>1</td>\n",
       "      <td>1</td>\n",
       "      <td>Ted</td>\n",
       "      <td>Dude, are you kidding? It's you and Lily! I've...</td>\n",
       "    </tr>\n",
       "    <tr>\n",
       "      <th>4</th>\n",
       "      <td>1</td>\n",
       "      <td>1</td>\n",
       "      <td>Marshall</td>\n",
       "      <td>(laughs) yeah, sorry. We thought you were asleep.</td>\n",
       "    </tr>\n",
       "  </tbody>\n",
       "</table>\n",
       "</div>"
      ],
      "text/plain": [
       "   Season  Episode Character  \\\n",
       "0       1        1  Marshall   \n",
       "1       1        1       Ted   \n",
       "2       1        1  Marshall   \n",
       "3       1        1       Ted   \n",
       "4       1        1  Marshall   \n",
       "\n",
       "                                                Line  \n",
       "0                    (Opens ring) Will you marry me.  \n",
       "1  Yes, perfect! And then you're engaged, you pop...  \n",
       "2  Got it. Thanks for helping me plan this out, Ted.  \n",
       "3  Dude, are you kidding? It's you and Lily! I've...  \n",
       "4  (laughs) yeah, sorry. We thought you were asleep.  "
      ]
     },
     "execution_count": 5,
     "metadata": {},
     "output_type": "execute_result"
    }
   ],
   "source": [
    "df.head() #Looking at head of df"
   ]
  },
  {
   "cell_type": "markdown",
   "metadata": {},
   "source": [
    "That's much better and makes much more sense; 4 1/2 million lines for a TV series wasn't necessarily adding up, especially because I only was counting the lines of the 5 main characters. Now let's move on to preprocessing.\n",
    "\n",
    "# Text Preprocessing\n",
    "\n",
    "Before we can do the fun part of exploring this plethora of data, we need to clean up the Line column. Based on how the data was read into the DF in the previous notebook, there shouldn't be any issues other than removing the \"motions\" from the lines, aka everything in parentheses. Part of me wants to add a column and just push these motions into a new column so we can look at motions like high-fives (as we know, Barney loves to high-five), but this will certainly result in a majority of NaN entries as not every single line includes a motion. I guess it couldn't hurt to make the column for it anyway in case I want to use it, and if I don't then no harm and if I do then it's available and ready! It's been decided, thanks for following."
   ]
  },
  {
   "cell_type": "code",
   "execution_count": 6,
   "metadata": {},
   "outputs": [
    {
     "data": {
      "text/html": [
       "<div>\n",
       "<style scoped>\n",
       "    .dataframe tbody tr th:only-of-type {\n",
       "        vertical-align: middle;\n",
       "    }\n",
       "\n",
       "    .dataframe tbody tr th {\n",
       "        vertical-align: top;\n",
       "    }\n",
       "\n",
       "    .dataframe thead th {\n",
       "        text-align: right;\n",
       "    }\n",
       "</style>\n",
       "<table border=\"1\" class=\"dataframe\">\n",
       "  <thead>\n",
       "    <tr style=\"text-align: right;\">\n",
       "      <th></th>\n",
       "      <th>Season</th>\n",
       "      <th>Episode</th>\n",
       "      <th>Character</th>\n",
       "      <th>Line</th>\n",
       "    </tr>\n",
       "  </thead>\n",
       "  <tbody>\n",
       "    <tr>\n",
       "      <th>0</th>\n",
       "      <td>1</td>\n",
       "      <td>1</td>\n",
       "      <td>Marshall</td>\n",
       "      <td>(Opens ring) Will you marry me.</td>\n",
       "    </tr>\n",
       "    <tr>\n",
       "      <th>4</th>\n",
       "      <td>1</td>\n",
       "      <td>1</td>\n",
       "      <td>Marshall</td>\n",
       "      <td>(laughs) yeah, sorry. We thought you were asleep.</td>\n",
       "    </tr>\n",
       "    <tr>\n",
       "      <th>7</th>\n",
       "      <td>1</td>\n",
       "      <td>1</td>\n",
       "      <td>Barney</td>\n",
       "      <td>(on the phone) hey, so you know how I've alway...</td>\n",
       "    </tr>\n",
       "    <tr>\n",
       "      <th>16</th>\n",
       "      <td>1</td>\n",
       "      <td>1</td>\n",
       "      <td>Barney</td>\n",
       "      <td>Ted, I'm going to teach you how to live. (Ted'...</td>\n",
       "    </tr>\n",
       "    <tr>\n",
       "      <th>20</th>\n",
       "      <td>1</td>\n",
       "      <td>1</td>\n",
       "      <td>Barney</td>\n",
       "      <td>Lesson two, get a suit. Suits are cool. (Point...</td>\n",
       "    </tr>\n",
       "    <tr>\n",
       "      <th>...</th>\n",
       "      <td>...</td>\n",
       "      <td>...</td>\n",
       "      <td>...</td>\n",
       "      <td>...</td>\n",
       "    </tr>\n",
       "    <tr>\n",
       "      <th>22475</th>\n",
       "      <td>7</td>\n",
       "      <td>2</td>\n",
       "      <td>Marshall</td>\n",
       "      <td>If I did not work, I could finish... in kind, ...</td>\n",
       "    </tr>\n",
       "    <tr>\n",
       "      <th>22485</th>\n",
       "      <td>7</td>\n",
       "      <td>2</td>\n",
       "      <td>Ted</td>\n",
       "      <td>I just had two rencards following. With two ad...</td>\n",
       "    </tr>\n",
       "    <tr>\n",
       "      <th>22609</th>\n",
       "      <td>7</td>\n",
       "      <td>3</td>\n",
       "      <td>Ted</td>\n",
       "      <td>Oh, no. How have I landed on it? Salvation. Te...</td>\n",
       "    </tr>\n",
       "    <tr>\n",
       "      <th>22612</th>\n",
       "      <td>7</td>\n",
       "      <td>3</td>\n",
       "      <td>Marshall</td>\n",
       "      <td>If I did not work, I could finish... in kind, ...</td>\n",
       "    </tr>\n",
       "    <tr>\n",
       "      <th>22622</th>\n",
       "      <td>7</td>\n",
       "      <td>3</td>\n",
       "      <td>Ted</td>\n",
       "      <td>I just had two rencards following. With two ad...</td>\n",
       "    </tr>\n",
       "  </tbody>\n",
       "</table>\n",
       "<p>938 rows × 4 columns</p>\n",
       "</div>"
      ],
      "text/plain": [
       "       Season  Episode Character  \\\n",
       "0           1        1  Marshall   \n",
       "4           1        1  Marshall   \n",
       "7           1        1    Barney   \n",
       "16          1        1    Barney   \n",
       "20          1        1    Barney   \n",
       "...       ...      ...       ...   \n",
       "22475       7        2  Marshall   \n",
       "22485       7        2       Ted   \n",
       "22609       7        3       Ted   \n",
       "22612       7        3  Marshall   \n",
       "22622       7        3       Ted   \n",
       "\n",
       "                                                    Line  \n",
       "0                        (Opens ring) Will you marry me.  \n",
       "4      (laughs) yeah, sorry. We thought you were asleep.  \n",
       "7      (on the phone) hey, so you know how I've alway...  \n",
       "16     Ted, I'm going to teach you how to live. (Ted'...  \n",
       "20     Lesson two, get a suit. Suits are cool. (Point...  \n",
       "...                                                  ...  \n",
       "22475  If I did not work, I could finish... in kind, ...  \n",
       "22485  I just had two rencards following. With two ad...  \n",
       "22609  Oh, no. How have I landed on it? Salvation. Te...  \n",
       "22612  If I did not work, I could finish... in kind, ...  \n",
       "22622  I just had two rencards following. With two ad...  \n",
       "\n",
       "[938 rows x 4 columns]"
      ]
     },
     "execution_count": 6,
     "metadata": {},
     "output_type": "execute_result"
    }
   ],
   "source": [
    "df[df['Line'].str.contains('\\([^)]*\\)')] #Checking regex pattern by looking at lines in df that contain it"
   ]
  },
  {
   "cell_type": "code",
   "execution_count": 7,
   "metadata": {},
   "outputs": [
    {
     "data": {
      "text/html": [
       "<div>\n",
       "<style scoped>\n",
       "    .dataframe tbody tr th:only-of-type {\n",
       "        vertical-align: middle;\n",
       "    }\n",
       "\n",
       "    .dataframe tbody tr th {\n",
       "        vertical-align: top;\n",
       "    }\n",
       "\n",
       "    .dataframe thead th {\n",
       "        text-align: right;\n",
       "    }\n",
       "</style>\n",
       "<table border=\"1\" class=\"dataframe\">\n",
       "  <thead>\n",
       "    <tr style=\"text-align: right;\">\n",
       "      <th></th>\n",
       "      <th>Season</th>\n",
       "      <th>Episode</th>\n",
       "      <th>Character</th>\n",
       "      <th>Line</th>\n",
       "      <th>Motion</th>\n",
       "    </tr>\n",
       "  </thead>\n",
       "  <tbody>\n",
       "  </tbody>\n",
       "</table>\n",
       "</div>"
      ],
      "text/plain": [
       "Empty DataFrame\n",
       "Columns: [Season, Episode, Character, Line, Motion]\n",
       "Index: []"
      ]
     },
     "execution_count": 7,
     "metadata": {},
     "output_type": "execute_result"
    }
   ],
   "source": [
    "df['Motion'] = df['Line'].apply(lambda x: re.findall(r'\\([^)]*\\)', x)) #Making column of motions\n",
    "\n",
    "df.Line = df.Line.apply(lambda x: re.sub(r'\\([^)]*\\)', '', x)) #Removing all motions from Line column\n",
    "\n",
    "df[df['Line'].str.contains('\\([^)]*\\)')] #Checking to make sure all motions were removed from Line column"
   ]
  },
  {
   "cell_type": "code",
   "execution_count": 8,
   "metadata": {},
   "outputs": [
    {
     "data": {
      "text/html": [
       "<div>\n",
       "<style scoped>\n",
       "    .dataframe tbody tr th:only-of-type {\n",
       "        vertical-align: middle;\n",
       "    }\n",
       "\n",
       "    .dataframe tbody tr th {\n",
       "        vertical-align: top;\n",
       "    }\n",
       "\n",
       "    .dataframe thead th {\n",
       "        text-align: right;\n",
       "    }\n",
       "</style>\n",
       "<table border=\"1\" class=\"dataframe\">\n",
       "  <thead>\n",
       "    <tr style=\"text-align: right;\">\n",
       "      <th></th>\n",
       "      <th>Season</th>\n",
       "      <th>Episode</th>\n",
       "      <th>Character</th>\n",
       "      <th>Line</th>\n",
       "      <th>Motion</th>\n",
       "    </tr>\n",
       "  </thead>\n",
       "  <tbody>\n",
       "    <tr>\n",
       "      <th>0</th>\n",
       "      <td>1</td>\n",
       "      <td>1</td>\n",
       "      <td>Marshall</td>\n",
       "      <td>Will you marry me.</td>\n",
       "      <td>[(Opens ring)]</td>\n",
       "    </tr>\n",
       "    <tr>\n",
       "      <th>1</th>\n",
       "      <td>1</td>\n",
       "      <td>1</td>\n",
       "      <td>Ted</td>\n",
       "      <td>Yes, perfect! And then you're engaged, you pop...</td>\n",
       "      <td>[]</td>\n",
       "    </tr>\n",
       "    <tr>\n",
       "      <th>2</th>\n",
       "      <td>1</td>\n",
       "      <td>1</td>\n",
       "      <td>Marshall</td>\n",
       "      <td>Got it. Thanks for helping me plan this out, Ted.</td>\n",
       "      <td>[]</td>\n",
       "    </tr>\n",
       "    <tr>\n",
       "      <th>3</th>\n",
       "      <td>1</td>\n",
       "      <td>1</td>\n",
       "      <td>Ted</td>\n",
       "      <td>Dude, are you kidding? It's you and Lily! I've...</td>\n",
       "      <td>[]</td>\n",
       "    </tr>\n",
       "    <tr>\n",
       "      <th>4</th>\n",
       "      <td>1</td>\n",
       "      <td>1</td>\n",
       "      <td>Marshall</td>\n",
       "      <td>yeah, sorry. We thought you were asleep.</td>\n",
       "      <td>[(laughs)]</td>\n",
       "    </tr>\n",
       "  </tbody>\n",
       "</table>\n",
       "</div>"
      ],
      "text/plain": [
       "   Season  Episode Character  \\\n",
       "0       1        1  Marshall   \n",
       "1       1        1       Ted   \n",
       "2       1        1  Marshall   \n",
       "3       1        1       Ted   \n",
       "4       1        1  Marshall   \n",
       "\n",
       "                                                Line          Motion  \n",
       "0                                 Will you marry me.  [(Opens ring)]  \n",
       "1  Yes, perfect! And then you're engaged, you pop...              []  \n",
       "2  Got it. Thanks for helping me plan this out, Ted.              []  \n",
       "3  Dude, are you kidding? It's you and Lily! I've...              []  \n",
       "4           yeah, sorry. We thought you were asleep.      [(laughs)]  "
      ]
     },
     "execution_count": 8,
     "metadata": {},
     "output_type": "execute_result"
    }
   ],
   "source": [
    "df.head() #Checking df to make sure all columns were created properly"
   ]
  },
  {
   "cell_type": "markdown",
   "metadata": {},
   "source": [
    "## Sentiment\n",
    "\n",
    "We can use TextBlob to calculate a sentiment score for each line. In the following cell we'll create a column that will contain this score for each line. Later on we can use these scores in our EDA, but for now we'll just calculate it. The following cell will be running through our DF that has over 4 1/2 million rows, so it may take awhile to run."
   ]
  },
  {
   "cell_type": "code",
   "execution_count": 9,
   "metadata": {},
   "outputs": [
    {
     "name": "stderr",
     "output_type": "stream",
     "text": [
      "/opt/anaconda3/lib/python3.8/site-packages/tqdm/std.py:668: FutureWarning: The Panel class is removed from pandas. Accessing it from the top-level namespace will also be removed in the next version\n",
      "  from pandas import Panel\n"
     ]
    },
    {
     "data": {
      "application/vnd.jupyter.widget-view+json": {
       "model_id": "75ef26f2ae464c1bb96c8d1d5919cb9a",
       "version_major": 2,
       "version_minor": 0
      },
      "text/plain": [
       "HBox(children=(FloatProgress(value=0.0, max=22475.0), HTML(value='')))"
      ]
     },
     "metadata": {},
     "output_type": "display_data"
    },
    {
     "name": "stdout",
     "output_type": "stream",
     "text": [
      "\n"
     ]
    },
    {
     "data": {
      "application/vnd.jupyter.widget-view+json": {
       "model_id": "54a8dc0713f541bab6a5bae773f2350c",
       "version_major": 2,
       "version_minor": 0
      },
      "text/plain": [
       "HBox(children=(FloatProgress(value=0.0, max=22475.0), HTML(value='')))"
      ]
     },
     "metadata": {},
     "output_type": "display_data"
    },
    {
     "name": "stdout",
     "output_type": "stream",
     "text": [
      "\n"
     ]
    }
   ],
   "source": [
    "tqdm.pandas() #Setting tqdm pandas so we can see a progress bar as it loads\n",
    "\n",
    "df['Polarity'] = df['Line'].progress_apply(lambda x: TextBlob(x).sentiment[0]) #Creating column for polarity score\n",
    "\n",
    "df['Subjectivity'] = df['Line'].progress_apply(lambda x: TextBlob(x).sentiment[1]) #Creating column for subject score"
   ]
  },
  {
   "cell_type": "code",
   "execution_count": 10,
   "metadata": {},
   "outputs": [
    {
     "data": {
      "text/html": [
       "<div>\n",
       "<style scoped>\n",
       "    .dataframe tbody tr th:only-of-type {\n",
       "        vertical-align: middle;\n",
       "    }\n",
       "\n",
       "    .dataframe tbody tr th {\n",
       "        vertical-align: top;\n",
       "    }\n",
       "\n",
       "    .dataframe thead th {\n",
       "        text-align: right;\n",
       "    }\n",
       "</style>\n",
       "<table border=\"1\" class=\"dataframe\">\n",
       "  <thead>\n",
       "    <tr style=\"text-align: right;\">\n",
       "      <th></th>\n",
       "      <th>Season</th>\n",
       "      <th>Episode</th>\n",
       "      <th>Character</th>\n",
       "      <th>Line</th>\n",
       "      <th>Motion</th>\n",
       "      <th>Polarity</th>\n",
       "      <th>Subjectivity</th>\n",
       "    </tr>\n",
       "  </thead>\n",
       "  <tbody>\n",
       "    <tr>\n",
       "      <th>0</th>\n",
       "      <td>1</td>\n",
       "      <td>1</td>\n",
       "      <td>Marshall</td>\n",
       "      <td>Will you marry me.</td>\n",
       "      <td>[(Opens ring)]</td>\n",
       "      <td>0.00000</td>\n",
       "      <td>0.000000</td>\n",
       "    </tr>\n",
       "    <tr>\n",
       "      <th>1</th>\n",
       "      <td>1</td>\n",
       "      <td>1</td>\n",
       "      <td>Ted</td>\n",
       "      <td>Yes, perfect! And then you're engaged, you pop...</td>\n",
       "      <td>[]</td>\n",
       "      <td>1.00000</td>\n",
       "      <td>1.000000</td>\n",
       "    </tr>\n",
       "    <tr>\n",
       "      <th>2</th>\n",
       "      <td>1</td>\n",
       "      <td>1</td>\n",
       "      <td>Marshall</td>\n",
       "      <td>Got it. Thanks for helping me plan this out, Ted.</td>\n",
       "      <td>[]</td>\n",
       "      <td>0.20000</td>\n",
       "      <td>0.200000</td>\n",
       "    </tr>\n",
       "    <tr>\n",
       "      <th>3</th>\n",
       "      <td>1</td>\n",
       "      <td>1</td>\n",
       "      <td>Ted</td>\n",
       "      <td>Dude, are you kidding? It's you and Lily! I've...</td>\n",
       "      <td>[]</td>\n",
       "      <td>0.09375</td>\n",
       "      <td>0.285417</td>\n",
       "    </tr>\n",
       "    <tr>\n",
       "      <th>4</th>\n",
       "      <td>1</td>\n",
       "      <td>1</td>\n",
       "      <td>Marshall</td>\n",
       "      <td>yeah, sorry. We thought you were asleep.</td>\n",
       "      <td>[(laughs)]</td>\n",
       "      <td>-0.50000</td>\n",
       "      <td>1.000000</td>\n",
       "    </tr>\n",
       "  </tbody>\n",
       "</table>\n",
       "</div>"
      ],
      "text/plain": [
       "   Season  Episode Character  \\\n",
       "0       1        1  Marshall   \n",
       "1       1        1       Ted   \n",
       "2       1        1  Marshall   \n",
       "3       1        1       Ted   \n",
       "4       1        1  Marshall   \n",
       "\n",
       "                                                Line          Motion  \\\n",
       "0                                 Will you marry me.  [(Opens ring)]   \n",
       "1  Yes, perfect! And then you're engaged, you pop...              []   \n",
       "2  Got it. Thanks for helping me plan this out, Ted.              []   \n",
       "3  Dude, are you kidding? It's you and Lily! I've...              []   \n",
       "4           yeah, sorry. We thought you were asleep.      [(laughs)]   \n",
       "\n",
       "   Polarity  Subjectivity  \n",
       "0   0.00000      0.000000  \n",
       "1   1.00000      1.000000  \n",
       "2   0.20000      0.200000  \n",
       "3   0.09375      0.285417  \n",
       "4  -0.50000      1.000000  "
      ]
     },
     "execution_count": 10,
     "metadata": {},
     "output_type": "execute_result"
    }
   ],
   "source": [
    "df.head() #Checking df to make sure column was added properly"
   ]
  },
  {
   "cell_type": "markdown",
   "metadata": {},
   "source": [
    "I'm going to save this new DF to a csv file, then I'm going to create a database file from it on my desktop using DB Browser for SQLite so I can start exploring the data using SQL, which will be easier to navigate and smoother than working directly on the DF using pandas SQL."
   ]
  },
  {
   "cell_type": "code",
   "execution_count": 11,
   "metadata": {},
   "outputs": [],
   "source": [
    "df.to_csv('DFforSQL.csv', index = False) #Saving df to csv to turn into a database for SQLite"
   ]
  },
  {
   "cell_type": "markdown",
   "metadata": {},
   "source": [
    "Now that this is saved, in the next notebook I will apply the DF to an SQL database and start calling queries to explore the data."
   ]
  }
 ],
 "metadata": {
  "kernelspec": {
   "display_name": "learn-env",
   "language": "python",
   "name": "learn-env"
  },
  "language_info": {
   "codemirror_mode": {
    "name": "ipython",
    "version": 3
   },
   "file_extension": ".py",
   "mimetype": "text/x-python",
   "name": "python",
   "nbconvert_exporter": "python",
   "pygments_lexer": "ipython3",
   "version": "3.8.3"
  },
  "toc": {
   "base_numbering": 1,
   "nav_menu": {},
   "number_sections": false,
   "sideBar": true,
   "skip_h1_title": false,
   "title_cell": "Table of Contents",
   "title_sidebar": "Contents",
   "toc_cell": false,
   "toc_position": {},
   "toc_section_display": true,
   "toc_window_display": false
  }
 },
 "nbformat": 4,
 "nbformat_minor": 4
}
